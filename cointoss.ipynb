{
  "nbformat": 4,
  "nbformat_minor": 0,
  "metadata": {
    "colab": {
      "name": "cointoss.ipynb",
      "provenance": [],
      "authorship_tag": "ABX9TyNiBUxu3BYfXGFfDQ8SN/7a",
      "include_colab_link": true
    },
    "kernelspec": {
      "name": "python3",
      "display_name": "Python 3"
    }
  },
  "cells": [
    {
      "cell_type": "markdown",
      "metadata": {
        "id": "view-in-github",
        "colab_type": "text"
      },
      "source": [
        "<a href=\"https://colab.research.google.com/github/Swati-Mohanty/AI5002/blob/main/cointoss.ipynb\" target=\"_parent\"><img src=\"https://colab.research.google.com/assets/colab-badge.svg\" alt=\"Open In Colab\"/></a>"
      ]
    },
    {
      "cell_type": "code",
      "metadata": {
        "id": "pMeoCkNJP2jI",
        "colab": {
          "base_uri": "https://localhost:8080/",
          "height": 334
        },
        "outputId": "e112e1f4-48ef-42e7-c086-75f56d3c0074"
      },
      "source": [
        "import numpy as np\r\n",
        "import pandas as pd\r\n",
        "import random\r\n",
        "import matplotlib.pyplot as plt \r\n",
        "#np.random.seed(42)\r\n",
        "\r\n",
        "n = 2   #no of tosses\r\n",
        "p = 0.5\r\n",
        "size=10\r\n",
        "x=np.random.binomial(n=n, p=p, size=size)\r\n",
        "print (x)\r\n",
        "\r\n",
        "probs_100 = [np.equal(x,i).mean() for i in range(n+1)]\r\n",
        "print(probs_100)\r\n",
        "\r\n",
        "plt.xticks(range(n+1))\r\n",
        "plt.plot(list(range(n+1)), probs_100, color='blue', marker='o')\r\n",
        "plt.xlabel('Number of Heads',fontsize=14)\r\n",
        "plt.ylabel('Probability',fontsize=14)\r\n",
        "plt.legend(bbox_to_anchor=(1.05, 1), loc=2, borderaxespad=0.)\r\n",
        "plt.grid()"
      ],
      "execution_count": 4,
      "outputs": [
        {
          "output_type": "stream",
          "text": [
            "No handles with labels found to put in legend.\n"
          ],
          "name": "stderr"
        },
        {
          "output_type": "stream",
          "text": [
            "[2 1 2 0 1 1 0 1 2 1]\n",
            "[0.2, 0.5, 0.3]\n"
          ],
          "name": "stdout"
        },
        {
          "output_type": "display_data",
          "data": {
            "image/png": "[encoded data removed]",
            "text/plain": [
              "<Figure size 432x288 with 1 Axes>"
            ]
          },
          "metadata": {
            "tags": [],
            "needs_background": "light"
          }
        }
      ]
    },
    {
      "cell_type": "code",
      "metadata": {
        "id": "2-4TxLH4vvGY"
      },
      "source": [
        ""
      ],
      "execution_count": null,
      "outputs": []
    },
    {
      "cell_type": "code",
      "metadata": {
        "colab": {
          "base_uri": "https://localhost:8080/"
        },
        "id": "Y_6e-7XTLGsY",
        "outputId": "a87699a1-9d9a-43e4-cb64-2e3c6bc41418"
      },
      "source": [
        "from scipy.stats import bernoulli\r\n",
        "import matplotlib.pyplot as plt\r\n",
        "import numpy as np\r\n",
        "\r\n",
        "#Generating random variables \r\n",
        "p=0.5\r\n",
        "sample_size = 10000\r\n",
        "toss1 = bernoulli.rvs(size=sample_size,p=0.5)\r\n",
        "toss2 = bernoulli.rvs(size=sample_size,p=0.5)\r\n",
        "\r\n",
        "#print(toss1)\r\n",
        "#print(toss2)\r\n",
        "h0=0\r\n",
        "h1=0\r\n",
        "h2=0\r\n",
        "\r\n",
        "for i in range (sample_size):\r\n",
        "  if (toss1[i]!=toss2[i]):\r\n",
        "    h1=h1+1\r\n",
        "  elif ((toss1[i]==1)&(toss2[i]==1)):\r\n",
        "    h2=h2+1\r\n",
        "  else:\r\n",
        "    h0=h0+1\r\n",
        "print('Probability distribution of heads in two tosses of a coin')\r\n",
        "print('0 Heads: ',h0/sample_size)\r\n",
        "print('1 Head: ',h1/sample_size)\r\n",
        "print('2 Heads: ',h2/sample_size)\r\n",
        "\r\n",
        "\r\n"
      ],
      "execution_count": 32,
      "outputs": [
        {
          "output_type": "stream",
          "text": [
            "Probability distribution of heads in two tosses of a coin\n",
            "0 Heads:  0.2476\n",
            "1 Head:  0.5\n",
            "2 Heads:  0.2524\n"
          ],
          "name": "stdout"
        }
      ]
    },
    {
      "cell_type": "code",
      "metadata": {
        "colab": {
          "base_uri": "https://localhost:8080/"
        },
        "id": "q_gCbtcBl6dO",
        "outputId": "c3e83968-0b2c-4bea-fe81-525947ddab1b"
      },
      "source": [
        "from scipy.stats import bernoulli\r\n",
        "import matplotlib.pyplot as plt\r\n",
        "import numpy as np\r\n",
        "\r\n",
        "#Generating random variables \r\n",
        "p=0.5\r\n",
        "sample_size = 10000\r\n",
        "toss1 = bernoulli.rvs(size=sample_size,p=0.5)\r\n",
        "toss2 = bernoulli.rvs(size=sample_size,p=0.5)\r\n",
        "toss3 = bernoulli.rvs(size=sample_size,p=0.5)\r\n",
        "\r\n",
        "#print(toss1)\r\n",
        "#print(toss2)\r\n",
        "h0=0\r\n",
        "h1=0\r\n",
        "h2=0\r\n",
        "h3=0\r\n",
        "for i in range (sample_size):\r\n",
        "  if ((toss1[i]==0)&(toss2[i]==0)&(toss3[i]==0)):\r\n",
        "    h0=h0+1\r\n",
        "  elif ((toss1[i]==1)&(toss2[i]==1)&(toss3[i]==1)):\r\n",
        "    h3=h3+1\r\n",
        "  else:\r\n",
        "    h1=h1+1\r\n",
        "h2=h1/2\r\n",
        "print('Probability distribution of tails in three tosses of a coin')\r\n",
        "print('0 Tails: ',h0/sample_size)\r\n",
        "print('1 Tail: ',h2/sample_size)\r\n",
        "print('2 Tails: ',h2/sample_size)\r\n",
        "print('3 Tails: ',h3/sample_size)\r\n"
      ],
      "execution_count": 34,
      "outputs": [
        {
          "output_type": "stream",
          "text": [
            "Probability distribution of tails in three tosses of a coin\n",
            "0 Tails:  0.1237\n",
            "1 Tail:  0.37585\n",
            "2 Tails:  0.37585\n",
            "3 Tails:  0.1246\n"
          ],
          "name": "stdout"
        }
      ]
    },
    {
      "cell_type": "code",
      "metadata": {
        "colab": {
          "base_uri": "https://localhost:8080/"
        },
        "id": "0hpYQXH7nnxL",
        "outputId": "752e0775-9045-4d1d-f003-b207ce41ea8e"
      },
      "source": [
        "from scipy.stats import bernoulli\r\n",
        "import matplotlib.pyplot as plt\r\n",
        "import numpy as np\r\n",
        "\r\n",
        "#Generating random variables \r\n",
        "p=0.5\r\n",
        "sample_size = 10000\r\n",
        "toss1 = bernoulli.rvs(size=sample_size,p=0.5)\r\n",
        "toss2 = bernoulli.rvs(size=sample_size,p=0.5)\r\n",
        "toss3 = bernoulli.rvs(size=sample_size,p=0.5)\r\n",
        "toss4 = bernoulli.rvs(size=sample_size,p=0.5)\r\n",
        "\r\n",
        "#print(toss1)\r\n",
        "#print(toss2)\r\n",
        "h0=0\r\n",
        "h1=0\r\n",
        "h2=0\r\n",
        "h3=0\r\n",
        "h4=0\r\n",
        "for i in range (sample_size):\r\n",
        "  if ((toss1[i]==0)&(toss2[i]==0)&(toss3[i]==0)&(toss4[i]==0)):\r\n",
        "    h0=h0+1\r\n",
        "  elif ((toss1[i]==1)&(toss2[i]==1)&(toss3[i]==1)&(toss4[i]==1)):\r\n",
        "    h4=h4+1\r\n",
        "  elif ((toss1[i]==toss2[i])|(toss1[i]==toss3[i])|(toss1[i]==toss4[i])):\r\n",
        "    h2=h2+1\r\n",
        "  elif ((toss1[i]==1)|(toss2[i]==1)|(toss3[i]==1)|(toss4[i]==1)):\r\n",
        "    h1=h1+1\r\n",
        "  else :\r\n",
        "    h3+=1\r\n",
        "  \r\n",
        "h3=h1\r\n",
        "print('Probability distribution of heads in four tosses of a coin')\r\n",
        "print('0 Heads: ',h0/sample_size)\r\n",
        "print('1 Head: ',h1/sample_size)\r\n",
        "print('2 Heads: ',h2/sample_size)\r\n",
        "print('3 Heads: ',h3/sample_size)\r\n",
        "print('4 Heads: ',h4/sample_size)"
      ],
      "execution_count": 43,
      "outputs": [
        {
          "output_type": "stream",
          "text": [
            "Probability distribution of heads in four tosses of a coin\n",
            "0 Heads:  0.0589\n",
            "1 Head:  0.12\n",
            "2 Heads:  0.7578\n",
            "3 Heads:  0.12\n",
            "4 Heads:  0.0633\n"
          ],
          "name": "stdout"
        }
      ]
    }
  ]
}