{
  "nbformat": 4,
  "nbformat_minor": 0,
  "metadata": {
    "colab": {
      "name": "mgf.ipynb",
      "provenance": [],
      "authorship_tag": "ABX9TyNI+QvvDorAesV5JGOhBt/p",
      "include_colab_link": true
    },
    "kernelspec": {
      "name": "python3",
      "display_name": "Python 3"
    }
  },
  "cells": [
    {
      "cell_type": "markdown",
      "metadata": {
        "id": "view-in-github",
        "colab_type": "text"
      },
      "source": [
        "<a href=\"https://colab.research.google.com/github/Swati-Mohanty/AI5002/blob/main/mgf.ipynb\" target=\"_parent\"><img src=\"https://colab.research.google.com/assets/colab-badge.svg\" alt=\"Open In Colab\"/></a>"
      ]
    },
    {
      "cell_type": "code",
      "metadata": {
        "colab": {
          "base_uri": "https://localhost:8080/"
        },
        "id": "zF9REQqjS_tj",
        "outputId": "eb31a37b-35ee-4fd3-ccac-09af707ce199"
      },
      "source": [
        "# Moment \r\n",
        "from scipy import stats \r\n",
        "import numpy as np  \r\n",
        "  \r\n",
        "arr1 = np.array([[1, 31, 27, 13, 21, 9], \r\n",
        "                [8, 12, 8, 4, 7, 10]])  \r\n",
        "   \r\n",
        "  \r\n",
        "print(\"Oth moment : \\n\", stats.moment(arr1, moment = 0))  "
      ],
      "execution_count": null,
      "outputs": [
        {
          "output_type": "stream",
          "text": [
            "Oth moment : \n",
            " [1. 1. 1. 1. 1. 1.]\n"
          ],
          "name": "stdout"
        }
      ]
    },
    {
      "cell_type": "code",
      "metadata": {
        "colab": {
          "base_uri": "https://localhost:8080/",
          "height": 520
        },
        "id": "UoDEL6qoUBGW",
        "outputId": "057f45f8-4c4c-4177-96ad-773ebb5e86b9"
      },
      "source": [
        "# Moment  \r\n",
        "from scipy import stats \r\n",
        "import matplotlib.pyplot as plt\r\n",
        "import numpy as np  \r\n",
        "  \r\n",
        "arr1 = [[1, 3, 27],  \r\n",
        "        [3, 4, 6],  \r\n",
        "        [7, 6, 3],  \r\n",
        "        [3, 6, 8]]   \r\n",
        "arr2 = []\r\n",
        "arr2.append(stats.moment(arr1, moment = 0)) \r\n",
        "arr2.append(stats.moment(arr1, moment = 2)) \r\n",
        "\r\n",
        "print (arr2)\r\n",
        "plt.plot(arr2)\r\n",
        "print(\"Oth moment : \\n\", stats.moment(arr1, moment = 0)) \r\n",
        "  \r\n",
        "print(\"\\n6th moment : \\n\", stats.moment(arr1, moment = 6)) \r\n",
        "  \r\n",
        "print(\"\\n9th moment : \\n\", stats.moment(arr1, moment = 9, axis = None)) \r\n",
        "  \r\n",
        "print(\"\\n12th moment : \\n\", stats.moment(arr1, moment = 12, axis = 1)) \r\n",
        "  \r\n",
        "print(\"\\n10th moment : \\n\", stats.moment(arr1, moment = 10, axis = 1)) "
      ],
      "execution_count": 12,
      "outputs": [
        {
          "output_type": "stream",
          "text": [
            "[array([1., 1., 1.]), array([ 4.75  ,  1.6875, 88.5   ])]\n",
            "Oth moment : \n",
            " [1. 1. 1.]\n",
            "\n",
            "6th moment : \n",
            " [5.20609375e+02 9.13256836e+00 4.26392850e+06]\n",
            "\n",
            "9th moment : \n",
            " 55265909588.26437\n",
            "\n",
            "12th moment : \n",
            " [1.53284936e+14 1.63654317e+02 8.83474172e+03 5.17842143e+04]\n",
            "\n",
            "10th moment : \n",
            " [5.53094361e+11 6.10464868e+01 1.64971407e+03 7.65588508e+03]\n"
          ],
          "name": "stdout"
        },
        {
          "output_type": "display_data",
          "data": {
            "image/png": "[encoded data removed]",
            "text/plain": [
              "<Figure size 432x288 with 1 Axes>"
            ]
          },
          "metadata": {
            "tags": [],
            "needs_background": "light"
          }
        }
      ]
    },
    {
      "cell_type": "code",
      "metadata": {
        "colab": {
          "base_uri": "https://localhost:8080/"
        },
        "id": "JFyof-O7Vebs",
        "outputId": "0d435c21-a8ad-407a-a510-c3f52bed8e0f"
      },
      "source": [
        "#1-Dimensional Data:\r\n",
        "\r\n",
        "#Import required libraries:\r\n",
        "from scipy import stats\r\n",
        "\r\n",
        "#Dataset:\r\n",
        "d = [1,2,3,4,5]\r\n",
        "\r\n",
        "#Finding 0th moment:\r\n",
        "print(\"0th Moment = \",stats.moment(d,moment=0))\r\n",
        "\r\n",
        "#Finding 1st moment:\r\n",
        "print(\"1st Moment = \",stats.moment(d,moment=1))\r\n",
        "\r\n",
        "#Finding 2nd moment:\r\n",
        "print(\"2nd Moment = \",stats.moment(d,moment=2))\r\n",
        "\r\n",
        "#Finding 3nd moment:\r\n",
        "print(\"3nd Moment = \",stats.moment(d,moment=3))\r\n",
        "\r\n",
        "#Finding 4th moment:\r\n",
        "print(\"4th Moment = \",stats.moment(d,moment=4))\r\n",
        "\r\n",
        "\r\n",
        "#============================================================\r\n",
        "\r\n",
        "\r\n",
        "#2-Dimensional Data:\r\n",
        "\r\n",
        "#Import required libraries:\r\n",
        "from scipy import stats\r\n",
        "\r\n",
        "#Dataset:\r\n",
        "d = [[5,6,9,11,3],[21,4,8,15,2]]\r\n",
        "\r\n",
        "#Finding 0th moment:\r\n",
        "print(\"0th Moment = \",stats.moment(d,moment=0))\r\n",
        "\r\n",
        "#Finding 1st moment:\r\n",
        "print(\"1st Moment = \",stats.moment(d,moment=1))\r\n",
        "\r\n",
        "#Finding 2nd moment:\r\n",
        "print(\"2nd Moment = \",stats.moment(d,moment=2))\r\n",
        "\r\n",
        "#Finding 3nd moment:\r\n",
        "print(\"3nd Moment = \",stats.moment(d,moment=3))\r\n",
        "\r\n",
        "#Finding 4th moment:\r\n",
        "print(\"4th Moment = \",stats.moment(d,moment=4))\r\n",
        "\r\n",
        "\r\n",
        "#============================================================\r\n",
        "\r\n",
        "\r\n",
        "#2-Dimensional Data:\r\n",
        "#Set axis=1 (Horizonatal):\r\n",
        "\r\n",
        "#Import required libraries:\r\n",
        "from scipy import stats\r\n",
        "\r\n",
        "#Dataset:\r\n",
        "d = [[5,6,9,11,3],[21,4,8,15,2]]\r\n",
        "\r\n",
        "#Finding 0th moment:\r\n",
        "print(\"0th Moment = \",stats.moment(d,moment=0,axis=1))\r\n",
        "\r\n",
        "#Finding 1st moment:\r\n",
        "print(\"1st Moment = \",stats.moment(d,moment=1,axis=1))\r\n",
        "\r\n",
        "#Finding 2nd moment:\r\n",
        "print(\"2nd Moment = \",stats.moment(d,moment=2,axis=1))\r\n",
        "\r\n",
        "#Finding 3nd moment:\r\n",
        "print(\"3nd Moment = \",stats.moment(d,moment=3,axis=1))\r\n",
        "\r\n",
        "#Finding 4th moment:\r\n",
        "print(\"4th Moment = \",stats.moment(d,moment=4,axis=1))\r\n",
        "\r\n",
        "\r\n",
        "#============================================================\r\n",
        "\r\n",
        "\r\n",
        "#Multi-Dimensional Data:\r\n",
        "\r\n",
        "#Import required libraries:\r\n",
        "from scipy import stats\r\n",
        "\r\n",
        "#Dataset:\r\n",
        "d = [[5,6,9,11,3],\r\n",
        "     [21,4,8,15,2],\r\n",
        "    [15,23,42,1,36]]\r\n",
        "\r\n",
        "#Finding 0th moment:\r\n",
        "print(\"0th Moment = \",stats.moment(d,moment=0))\r\n",
        "\r\n",
        "#Finding 1st moment:\r\n",
        "print(\"1st Moment = \",stats.moment(d,moment=1))\r\n",
        "\r\n",
        "#Finding 2nd moment:\r\n",
        "print(\"2nd Moment = \",stats.moment(d,moment=2))\r\n",
        "\r\n",
        "#Finding 3nd moment:\r\n",
        "print(\"3nd Moment = \",stats.moment(d,moment=3))\r\n",
        "\r\n",
        "#Finding 4th moment:\r\n",
        "print(\"4th Moment = \",stats.moment(d,moment=4))\r\n",
        "\r\n",
        "\r\n",
        "#============================================================\r\n",
        "\r\n",
        "\r\n",
        "#2-Dimensional Data:\r\n",
        "#Set axis=1 (Horizonatal):\r\n",
        "#Higher Order Moments:\r\n",
        "\r\n",
        "#Import required libraries:\r\n",
        "from scipy import stats\r\n",
        "\r\n",
        "#Dataset:\r\n",
        "d = [[5,6,9,11,3],[21,4,8,15,2]]\r\n",
        "\r\n",
        "#Finding 10th moment:\r\n",
        "print(\"10th Moment = \",stats.moment(d,moment=10,axis=1))\r\n",
        "\r\n",
        "#Finding 12th moment:\r\n",
        "print(\"12th Moment = \",stats.moment(d,moment=12,axis=1))"
      ],
      "execution_count": null,
      "outputs": [
        {
          "output_type": "stream",
          "text": [
            "0th Moment =  1.0\n",
            "1st Moment =  0.0\n",
            "2nd Moment =  2.0\n",
            "3nd Moment =  0.0\n",
            "4th Moment =  6.8\n",
            "0th Moment =  [1. 1. 1. 1. 1.]\n",
            "1st Moment =  [0. 0. 0. 0. 0.]\n",
            "2nd Moment =  [64.    1.    0.25  4.    0.25]\n",
            "3nd Moment =  [0. 0. 0. 0. 0.]\n",
            "4th Moment =  [4.096e+03 1.000e+00 6.250e-02 1.600e+01 6.250e-02]\n",
            "0th Moment =  [1. 1.]\n",
            "1st Moment =  [0. 0.]\n",
            "2nd Moment =  [ 8.16 50.  ]\n",
            "3nd Moment =  [  4.704 144.   ]\n",
            "4th Moment =  [ 110.8032 4134.8   ]\n",
            "0th Moment =  [1. 1. 1. 1. 1.]\n",
            "1st Moment =  [0. 0. 0. 0. 0.]\n",
            "2nd Moment =  [ 43.55555556  72.66666667 249.55555556  34.66666667 249.55555556]\n",
            "3nd Moment =  [ -84.74074074  420.         2779.25925926  -96.         2779.25925926]\n",
            "4th Moment =  [ 2845.62962963  7920.66666667 93416.96296296  1802.66666667\n",
            " 93416.96296296]\n",
            "10th Moment =  [4.67770829e+05 5.41627985e+09]\n",
            "12th Moment =  [7.84184386e+06 6.41913756e+11]\n"
          ],
          "name": "stdout"
        }
      ]
    }
  ]
}