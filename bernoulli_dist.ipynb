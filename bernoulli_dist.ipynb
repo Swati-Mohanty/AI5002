{
  "nbformat": 4,
  "nbformat_minor": 0,
  "metadata": {
    "colab": {
      "name": "bernoulli_dist.ipynb",
      "provenance": [],
      "authorship_tag": "ABX9TyPhK1bJG+v1ynW7zZLkvtGy",
      "include_colab_link": true
    },
    "kernelspec": {
      "name": "python3",
      "display_name": "Python 3"
    }
  },
  "cells": [
    {
      "cell_type": "markdown",
      "metadata": {
        "id": "view-in-github",
        "colab_type": "text"
      },
      "source": [
        "<a href=\"https://colab.research.google.com/github/Swati-Mohanty/AI5002/blob/main/bernoulli_dist.ipynb\" target=\"_parent\"><img src=\"https://colab.research.google.com/assets/colab-badge.svg\" alt=\"Open In Colab\"/></a>"
      ]
    },
    {
      "cell_type": "code",
      "metadata": {
        "colab": {
          "base_uri": "https://localhost:8080/"
        },
        "id": "Y_6e-7XTLGsY",
        "outputId": "1a9dd7c8-69ec-480f-d6a2-0144c3aa9a14"
      },
      "source": [
        "from scipy.stats import bernoulli\r\n",
        "import matplotlib.pyplot as plt\r\n",
        "\r\n",
        "#probability of sucess\r\n",
        "p=0.7\r\n",
        "\r\n",
        "#Mean\r\n",
        "mean=bernoulli.mean(p)\r\n",
        "print (\"Mean =\", mean)\r\n",
        "\r\n",
        "#Variance\r\n",
        "var=bernoulli.var(p)\r\n",
        "print (\"Variance =\", var)\r\n",
        "\r\n",
        "#Generating random variables \r\n",
        "p=0.7\r\n",
        "a=0\r\n",
        "r = bernoulli.rvs(p, size=1000)\r\n",
        "#print(r)\r\n",
        "for i in range(1000):\r\n",
        "  if(r[i]==1):\r\n",
        "    a+=1\r\n",
        "a= a/1000\r\n",
        "print(a)\r\n",
        "#Mean\r\n",
        "mean=bernoulli.mean(a)\r\n",
        "print(\"Generated samples \")\r\n",
        "print (\"Mean =\", mean)\r\n",
        "\r\n",
        "#Variance\r\n",
        "var=bernoulli.var(a)\r\n",
        "print (\"Variance =\", var)\r\n"
      ],
      "execution_count": 25,
      "outputs": [
        {
          "output_type": "stream",
          "text": [
            "Mean = 0.7\n",
            "Variance = 0.21000000000000002\n",
            "0.706\n",
            "Generated samples \n",
            "Mean = 0.706\n",
            "Variance = 0.20756400000000003\n"
          ],
          "name": "stdout"
        }
      ]
    }
  ]
}