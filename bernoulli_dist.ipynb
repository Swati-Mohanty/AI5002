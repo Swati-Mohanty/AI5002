{
  "nbformat": 4,
  "nbformat_minor": 0,
  "metadata": {
    "colab": {
      "name": "bernoulli_dist.ipynb",
      "provenance": [],
      "authorship_tag": "ABX9TyO/U4E9Q4ZMtAbOqs9vffW/",
      "include_colab_link": true
    },
    "kernelspec": {
      "name": "python3",
      "display_name": "Python 3"
    }
  },
  "cells": [
    {
      "cell_type": "markdown",
      "metadata": {
        "id": "view-in-github",
        "colab_type": "text"
      },
      "source": [
        "<a href=\"https://colab.research.google.com/github/Swati-Mohanty/AI5002/blob/main/bernoulli_dist.ipynb\" target=\"_parent\"><img src=\"https://colab.research.google.com/assets/colab-badge.svg\" alt=\"Open In Colab\"/></a>"
      ]
    },
    {
      "cell_type": "code",
      "metadata": {
        "colab": {
          "base_uri": "https://localhost:8080/"
        },
        "id": "Y_6e-7XTLGsY",
        "outputId": "966e7fbc-854e-4bbd-ea87-f603ddfe7339"
      },
      "source": [
        "from scipy.stats import bernoulli\r\n",
        "import matplotlib.pyplot as plt\r\n",
        "\r\n",
        "#probability of sucess\r\n",
        "p=0.7\r\n",
        "\r\n",
        "#Mean\r\n",
        "mean=bernoulli.mean(p)\r\n",
        "print (\"Mean =\", mean)\r\n",
        "\r\n",
        "#Variance\r\n",
        "var=bernoulli.var(p)\r\n",
        "print (\"Variance =\", var)"
      ],
      "execution_count": 2,
      "outputs": [
        {
          "output_type": "stream",
          "text": [
            "Mean = 0.7\n",
            "Variance = 0.21000000000000002\n"
          ],
          "name": "stdout"
        }
      ]
    }
  ]
}