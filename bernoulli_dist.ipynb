{
  "nbformat": 4,
  "nbformat_minor": 0,
  "metadata": {
    "colab": {
      "name": "bernoulli_dist.ipynb",
      "provenance": [],
      "authorship_tag": "ABX9TyMMBQ1W6QdmC6bZClEJEiuO",
      "include_colab_link": true
    },
    "kernelspec": {
      "name": "python3",
      "display_name": "Python 3"
    }
  },
  "cells": [
    {
      "cell_type": "markdown",
      "metadata": {
        "id": "view-in-github",
        "colab_type": "text"
      },
      "source": [
        "<a href=\"https://colab.research.google.com/github/Swati-Mohanty/AI5002/blob/main/bernoulli_dist.ipynb\" target=\"_parent\"><img src=\"https://colab.research.google.com/assets/colab-badge.svg\" alt=\"Open In Colab\"/></a>"
      ]
    },
    {
      "cell_type": "code",
      "metadata": {
        "colab": {
          "base_uri": "https://localhost:8080/"
        },
        "id": "Y_6e-7XTLGsY",
        "outputId": "b532da34-9160-4b1b-8a8c-a2c382c38a24"
      },
      "source": [
        "from scipy.stats import bernoulli\r\n",
        "import matplotlib.pyplot as plt\r\n",
        "import numpy as np\r\n",
        "\r\n",
        "#probability of sucess\r\n",
        "p=0.7\r\n",
        "\r\n",
        "#Mean\r\n",
        "mean=bernoulli.mean(p)\r\n",
        "print (\"Mean =\", mean)\r\n",
        "\r\n",
        "#Variance\r\n",
        "var=bernoulli.var(p)\r\n",
        "print (\"Variance =\", var)\r\n",
        "\r\n",
        "#Generating random variables \r\n",
        "p=0.7\r\n",
        "r = np.array(bernoulli.rvs(p, size=1000))\r\n",
        "a=(np.sum(r))/1000\r\n",
        "\r\n",
        "print(a)\r\n",
        "#Mean\r\n",
        "mean=bernoulli.mean(a)\r\n",
        "print(\"Generated samples \")\r\n",
        "print (\"Mean =\", mean)\r\n",
        "\r\n",
        "#Variance\r\n",
        "var=bernoulli.var(a)\r\n",
        "print (\"Variance =\", var)\r\n",
        "\r\n",
        "#print(r)\r\n",
        "#for i in range(1000):\r\n",
        "  #if(r[i]==1):\r\n",
        "    #a+=1\r\n",
        "#a= a/1000"
      ],
      "execution_count": 5,
      "outputs": [
        {
          "output_type": "stream",
          "text": [
            "Mean = 0.7\n",
            "Variance = 0.21000000000000002\n",
            "0.703\n",
            "Generated samples \n",
            "Mean = 0.703\n",
            "Variance = 0.208791\n"
          ],
          "name": "stdout"
        }
      ]
    }
  ]
}